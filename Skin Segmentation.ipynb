{
  "cells": [
    {
      "cell_type": "markdown",
      "id": "f44ca4d5",
      "metadata": {
        "id": "f44ca4d5"
      },
      "source": [
        "# Lab Experiments"
      ]
    },
    {
      "cell_type": "markdown",
      "id": "3a23b94c",
      "metadata": {
        "id": "3a23b94c"
      },
      "source": [
        "### Import Statements\n",
        "##### The following modules will be helpful for performing the experiments"
      ]
    },
    {
      "cell_type": "code",
      "execution_count": 1,
      "id": "6ef2d127",
      "metadata": {
        "id": "6ef2d127"
      },
      "outputs": [],
      "source": [
        "import numpy as np\n",
        "import pandas as pd\n",
        "import matplotlib.pyplot as plt\n",
        "from sklearn import tree\n",
        "from sklearn.metrics import confusion_matrix,accuracy_score,classification_report\n",
        "from sklearn.model_selection import train_test_split\n",
        "from sklearn.tree import DecisionTreeClassifier\n",
        "import matplotlib.pyplot as plt\n",
        "from sklearn.linear_model import LogisticRegression,Perceptron\n",
        "from sklearn.svm import SVC\n",
        "from sklearn.ensemble import AdaBoostClassifier,RandomForestRegressor\n",
        "from sklearn.preprocessing import StandardScaler\n",
        "from sklearn.cluster import KMeans\n",
        "from sklearn.decomposition import PCA"
      ]
    },
    {
      "cell_type": "markdown",
      "id": "c1240f64",
      "metadata": {
        "id": "c1240f64"
      },
      "source": [
        "## Data Preprocessing\n",
        "### Data Description:\n",
        "    Title: Skin Segmentation\n",
        "    Features: Blue, Green and Red Pixel Values\n",
        "    Labels: 1 for when the sample is a skin sample, 2 when sample is not a skin sample\n",
        "### Reading the data from the file"
      ]
    },
    {
      "cell_type": "code",
      "execution_count": 2,
      "id": "888ed565",
      "metadata": {
        "colab": {
          "base_uri": "https://localhost:8080/"
        },
        "id": "888ed565",
        "outputId": "ccc408a8-cc0d-4cf4-efa9-9bfee5640d11"
      },
      "outputs": [
        {
          "output_type": "stream",
          "name": "stdout",
          "text": [
            "          B    G    R  Y\n",
            "0        74   85  123  1\n",
            "1        73   84  122  1\n",
            "2        72   83  121  1\n",
            "3        70   81  119  1\n",
            "4        70   81  119  1\n",
            "...     ...  ...  ... ..\n",
            "245052  163  162  112  2\n",
            "245053  163  162  112  2\n",
            "245054  163  162  112  2\n",
            "245055  163  162  112  2\n",
            "245056  255  255  255  2\n",
            "\n",
            "[245057 rows x 4 columns]\n"
          ]
        }
      ],
      "source": [
        "df = pd.read_csv(\"dataset.csv\",sep = \"\\t\", names = [\"B\", \"G\", \"R\", \"Y\"])\n",
        "print(df)"
      ]
    },
    {
      "cell_type": "code",
      "execution_count": 3,
      "id": "5cf69707",
      "metadata": {
        "colab": {
          "base_uri": "https://localhost:8080/",
          "height": 206
        },
        "id": "5cf69707",
        "outputId": "9c52e2ab-ce1f-435e-9336-2d37805a74b1"
      },
      "outputs": [
        {
          "output_type": "execute_result",
          "data": {
            "text/plain": [
              "    B   G    R  Y\n",
              "0  74  85  123  1\n",
              "1  73  84  122  1\n",
              "2  72  83  121  1\n",
              "3  70  81  119  1\n",
              "4  70  81  119  1"
            ],
            "text/html": [
              "\n",
              "  <div id=\"df-df5e6568-4c7b-4e72-b0f0-5f849c407a92\">\n",
              "    <div class=\"colab-df-container\">\n",
              "      <div>\n",
              "<style scoped>\n",
              "    .dataframe tbody tr th:only-of-type {\n",
              "        vertical-align: middle;\n",
              "    }\n",
              "\n",
              "    .dataframe tbody tr th {\n",
              "        vertical-align: top;\n",
              "    }\n",
              "\n",
              "    .dataframe thead th {\n",
              "        text-align: right;\n",
              "    }\n",
              "</style>\n",
              "<table border=\"1\" class=\"dataframe\">\n",
              "  <thead>\n",
              "    <tr style=\"text-align: right;\">\n",
              "      <th></th>\n",
              "      <th>B</th>\n",
              "      <th>G</th>\n",
              "      <th>R</th>\n",
              "      <th>Y</th>\n",
              "    </tr>\n",
              "  </thead>\n",
              "  <tbody>\n",
              "    <tr>\n",
              "      <th>0</th>\n",
              "      <td>74</td>\n",
              "      <td>85</td>\n",
              "      <td>123</td>\n",
              "      <td>1</td>\n",
              "    </tr>\n",
              "    <tr>\n",
              "      <th>1</th>\n",
              "      <td>73</td>\n",
              "      <td>84</td>\n",
              "      <td>122</td>\n",
              "      <td>1</td>\n",
              "    </tr>\n",
              "    <tr>\n",
              "      <th>2</th>\n",
              "      <td>72</td>\n",
              "      <td>83</td>\n",
              "      <td>121</td>\n",
              "      <td>1</td>\n",
              "    </tr>\n",
              "    <tr>\n",
              "      <th>3</th>\n",
              "      <td>70</td>\n",
              "      <td>81</td>\n",
              "      <td>119</td>\n",
              "      <td>1</td>\n",
              "    </tr>\n",
              "    <tr>\n",
              "      <th>4</th>\n",
              "      <td>70</td>\n",
              "      <td>81</td>\n",
              "      <td>119</td>\n",
              "      <td>1</td>\n",
              "    </tr>\n",
              "  </tbody>\n",
              "</table>\n",
              "</div>\n",
              "      <button class=\"colab-df-convert\" onclick=\"convertToInteractive('df-df5e6568-4c7b-4e72-b0f0-5f849c407a92')\"\n",
              "              title=\"Convert this dataframe to an interactive table.\"\n",
              "              style=\"display:none;\">\n",
              "        \n",
              "  <svg xmlns=\"http://www.w3.org/2000/svg\" height=\"24px\"viewBox=\"0 0 24 24\"\n",
              "       width=\"24px\">\n",
              "    <path d=\"M0 0h24v24H0V0z\" fill=\"none\"/>\n",
              "    <path d=\"M18.56 5.44l.94 2.06.94-2.06 2.06-.94-2.06-.94-.94-2.06-.94 2.06-2.06.94zm-11 1L8.5 8.5l.94-2.06 2.06-.94-2.06-.94L8.5 2.5l-.94 2.06-2.06.94zm10 10l.94 2.06.94-2.06 2.06-.94-2.06-.94-.94-2.06-.94 2.06-2.06.94z\"/><path d=\"M17.41 7.96l-1.37-1.37c-.4-.4-.92-.59-1.43-.59-.52 0-1.04.2-1.43.59L10.3 9.45l-7.72 7.72c-.78.78-.78 2.05 0 2.83L4 21.41c.39.39.9.59 1.41.59.51 0 1.02-.2 1.41-.59l7.78-7.78 2.81-2.81c.8-.78.8-2.07 0-2.86zM5.41 20L4 18.59l7.72-7.72 1.47 1.35L5.41 20z\"/>\n",
              "  </svg>\n",
              "      </button>\n",
              "      \n",
              "  <style>\n",
              "    .colab-df-container {\n",
              "      display:flex;\n",
              "      flex-wrap:wrap;\n",
              "      gap: 12px;\n",
              "    }\n",
              "\n",
              "    .colab-df-convert {\n",
              "      background-color: #E8F0FE;\n",
              "      border: none;\n",
              "      border-radius: 50%;\n",
              "      cursor: pointer;\n",
              "      display: none;\n",
              "      fill: #1967D2;\n",
              "      height: 32px;\n",
              "      padding: 0 0 0 0;\n",
              "      width: 32px;\n",
              "    }\n",
              "\n",
              "    .colab-df-convert:hover {\n",
              "      background-color: #E2EBFA;\n",
              "      box-shadow: 0px 1px 2px rgba(60, 64, 67, 0.3), 0px 1px 3px 1px rgba(60, 64, 67, 0.15);\n",
              "      fill: #174EA6;\n",
              "    }\n",
              "\n",
              "    [theme=dark] .colab-df-convert {\n",
              "      background-color: #3B4455;\n",
              "      fill: #D2E3FC;\n",
              "    }\n",
              "\n",
              "    [theme=dark] .colab-df-convert:hover {\n",
              "      background-color: #434B5C;\n",
              "      box-shadow: 0px 1px 3px 1px rgba(0, 0, 0, 0.15);\n",
              "      filter: drop-shadow(0px 1px 2px rgba(0, 0, 0, 0.3));\n",
              "      fill: #FFFFFF;\n",
              "    }\n",
              "  </style>\n",
              "\n",
              "      <script>\n",
              "        const buttonEl =\n",
              "          document.querySelector('#df-df5e6568-4c7b-4e72-b0f0-5f849c407a92 button.colab-df-convert');\n",
              "        buttonEl.style.display =\n",
              "          google.colab.kernel.accessAllowed ? 'block' : 'none';\n",
              "\n",
              "        async function convertToInteractive(key) {\n",
              "          const element = document.querySelector('#df-df5e6568-4c7b-4e72-b0f0-5f849c407a92');\n",
              "          const dataTable =\n",
              "            await google.colab.kernel.invokeFunction('convertToInteractive',\n",
              "                                                     [key], {});\n",
              "          if (!dataTable) return;\n",
              "\n",
              "          const docLinkHtml = 'Like what you see? Visit the ' +\n",
              "            '<a target=\"_blank\" href=https://colab.research.google.com/notebooks/data_table.ipynb>data table notebook</a>'\n",
              "            + ' to learn more about interactive tables.';\n",
              "          element.innerHTML = '';\n",
              "          dataTable['output_type'] = 'display_data';\n",
              "          await google.colab.output.renderOutput(dataTable, element);\n",
              "          const docLink = document.createElement('div');\n",
              "          docLink.innerHTML = docLinkHtml;\n",
              "          element.appendChild(docLink);\n",
              "        }\n",
              "      </script>\n",
              "    </div>\n",
              "  </div>\n",
              "  "
            ]
          },
          "metadata": {},
          "execution_count": 3
        }
      ],
      "source": [
        "df.head()"
      ]
    },
    {
      "cell_type": "markdown",
      "id": "00c17b28",
      "metadata": {
        "id": "00c17b28"
      },
      "source": [
        "### Splitting data into features and labels\n",
        "##### Since the data consists of both features and labels together, we need to split it."
      ]
    },
    {
      "cell_type": "code",
      "execution_count": 4,
      "id": "315ad60f",
      "metadata": {
        "colab": {
          "base_uri": "https://localhost:8080/"
        },
        "id": "315ad60f",
        "outputId": "623ab2ad-c921-43bc-ad2b-e880275190c0"
      },
      "outputs": [
        {
          "output_type": "stream",
          "name": "stdout",
          "text": [
            "[[ 74  85 123]\n",
            " [ 73  84 122]\n",
            " [ 72  83 121]\n",
            " ...\n",
            " [163 162 112]\n",
            " [163 162 112]\n",
            " [255 255 255]]\n",
            "[1 1 1 ... 2 2 2]\n"
          ]
        }
      ],
      "source": [
        "X_vals = df.values[:,0:3]\n",
        "Y_vals = df.values[:, 3]\n",
        "print(X_vals)\n",
        "print(Y_vals)"
      ]
    },
    {
      "cell_type": "markdown",
      "id": "b01234a3",
      "metadata": {
        "id": "b01234a3"
      },
      "source": [
        "### Splitting the data into training data and testing data\n",
        "##### The data needs to be split to training and testing data"
      ]
    },
    {
      "cell_type": "code",
      "execution_count": 5,
      "id": "aaee044f",
      "metadata": {
        "id": "aaee044f"
      },
      "outputs": [],
      "source": [
        "X_train, X_test, y_train, y_test = train_test_split(X_vals,\n",
        "                                                    Y_vals,\n",
        "                                                    test_size = 0.3,\n",
        "                                                    random_state = 100)"
      ]
    },
    {
      "cell_type": "code",
      "execution_count": 6,
      "id": "289f8bfd",
      "metadata": {
        "colab": {
          "base_uri": "https://localhost:8080/"
        },
        "id": "289f8bfd",
        "outputId": "ade0555a-f9b9-45d3-ecbf-4a99d6b6641a"
      },
      "outputs": [
        {
          "output_type": "stream",
          "name": "stdout",
          "text": [
            "Training Data Features\n",
            "[[177  77 107]\n",
            " [179 165 123]\n",
            " [163 162 111]\n",
            " ...\n",
            " [199 197 163]\n",
            " [187 186 142]\n",
            " [175 185 232]]\n",
            "Training Data Labels\n",
            "[2 2 2 ... 2 2 1]\n",
            "Test Data Features\n",
            "[[ 74  77  28]\n",
            " [178 174 126]\n",
            " [ 93 139 216]\n",
            " ...\n",
            " [170 169 118]\n",
            " [  3   3   3]\n",
            " [ 81  82  40]]\n",
            "Test Data Labels\n",
            "[2 2 1 ... 2 2 2]\n"
          ]
        }
      ],
      "source": [
        "print(\"Training Data Features\",X_train,\n",
        "      \"Training Data Labels\",y_train,\n",
        "      \"Test Data Features\",X_test,\n",
        "      \"Test Data Labels\",y_test,\n",
        "      sep = \"\\n\")"
      ]
    },
    {
      "cell_type": "markdown",
      "id": "56fb6584",
      "metadata": {
        "id": "56fb6584"
      },
      "source": [
        "# Decision Tree Learning Implementation "
      ]
    },
    {
      "cell_type": "markdown",
      "id": "1ff80db7",
      "metadata": {
        "id": "1ff80db7"
      },
      "source": [
        "### Model Training"
      ]
    },
    {
      "cell_type": "code",
      "execution_count": 7,
      "id": "111396a9",
      "metadata": {
        "colab": {
          "base_uri": "https://localhost:8080/"
        },
        "id": "111396a9",
        "outputId": "fba8e5b5-fc04-491c-bd9d-e3643f0c7382"
      },
      "outputs": [
        {
          "output_type": "execute_result",
          "data": {
            "text/plain": [
              "DecisionTreeClassifier(max_depth=3, min_samples_leaf=2, random_state=100)"
            ]
          },
          "metadata": {},
          "execution_count": 7
        }
      ],
      "source": [
        "modelTraining = DecisionTreeClassifier(criterion = \"gini\",\n",
        "                                       random_state = 100,\n",
        "                                       max_depth = 3,\n",
        "                                       min_samples_leaf = 2)\n",
        "modelTraining.fit(X_train,y_train)"
      ]
    },
    {
      "cell_type": "markdown",
      "id": "77494f06",
      "metadata": {
        "id": "77494f06"
      },
      "source": [
        "### Model Testing"
      ]
    },
    {
      "cell_type": "code",
      "execution_count": 8,
      "id": "030b7e8c",
      "metadata": {
        "colab": {
          "base_uri": "https://localhost:8080/"
        },
        "id": "030b7e8c",
        "outputId": "a835f44d-6485-459a-d042-b07197572739"
      },
      "outputs": [
        {
          "output_type": "stream",
          "name": "stdout",
          "text": [
            "[2 2 1 ... 2 2 2]\n"
          ]
        }
      ],
      "source": [
        "y_pred = modelTraining.predict(X_test)\n",
        "print(y_pred)"
      ]
    },
    {
      "cell_type": "markdown",
      "id": "1d96df15",
      "metadata": {
        "id": "1d96df15"
      },
      "source": [
        "### Confusion Matrix"
      ]
    },
    {
      "cell_type": "code",
      "execution_count": 9,
      "id": "23c75ad1",
      "metadata": {
        "colab": {
          "base_uri": "https://localhost:8080/"
        },
        "id": "23c75ad1",
        "outputId": "7e51d13d-ec45-4593-9dd9-9025d835d5bc"
      },
      "outputs": [
        {
          "output_type": "stream",
          "name": "stdout",
          "text": [
            "[[14609   731]\n",
            " [ 1776 56402]]\n"
          ]
        }
      ],
      "source": [
        "cmat = confusion_matrix(y_test,y_pred)\n",
        "print(cmat)"
      ]
    },
    {
      "cell_type": "markdown",
      "id": "46807d02",
      "metadata": {
        "id": "46807d02"
      },
      "source": [
        "### Accuracy of the model"
      ]
    },
    {
      "cell_type": "code",
      "execution_count": 10,
      "id": "5f51d8a3",
      "metadata": {
        "colab": {
          "base_uri": "https://localhost:8080/"
        },
        "id": "5f51d8a3",
        "outputId": "8fc8f6b1-d081-490a-bc10-c532ac321160"
      },
      "outputs": [
        {
          "output_type": "stream",
          "name": "stdout",
          "text": [
            "Accuracy:  96.58995076035801\n"
          ]
        }
      ],
      "source": [
        "print(\"Accuracy: \", accuracy_score(y_test,y_pred)*100)"
      ]
    },
    {
      "cell_type": "markdown",
      "id": "1959dce0",
      "metadata": {
        "id": "1959dce0"
      },
      "source": [
        "### Visualization of the decision tree\n"
      ]
    },
    {
      "cell_type": "code",
      "execution_count": 11,
      "id": "81c0c1a7",
      "metadata": {
        "colab": {
          "base_uri": "https://localhost:8080/",
          "height": 754
        },
        "id": "81c0c1a7",
        "outputId": "ab0b83f9-a674-4f9c-eb3a-660cfb2afa90"
      },
      "outputs": [
        {
          "output_type": "display_data",
          "data": {
            "text/plain": [
              "<Figure size 1800x1440 with 1 Axes>"
            ],
            "image/png": "[encoded data removed]"
          },
          "metadata": {
            "needs_background": "light"
          }
        }
      ],
      "source": [
        "img = plt.figure(figsize = (25,20))\n",
        "treeRep = tree.plot_tree(modelTraining,\n",
        "                         feature_names = [\"Blue\",\"Green\",\"Red\"],\n",
        "                         class_names = [\"Skin\",\"No Skin\"])"
      ]
    },
    {
      "cell_type": "markdown",
      "id": "709e3854",
      "metadata": {
        "id": "709e3854"
      },
      "source": [
        "# Logistic Regression Implementation "
      ]
    },
    {
      "cell_type": "markdown",
      "id": "e1501fd1",
      "metadata": {
        "id": "e1501fd1"
      },
      "source": [
        "### Model Training"
      ]
    },
    {
      "cell_type": "code",
      "execution_count": 12,
      "id": "5b02bb72",
      "metadata": {
        "id": "5b02bb72"
      },
      "outputs": [],
      "source": [
        "logmodel = LogisticRegression()\n",
        "fit_model = logmodel.fit(X_train,y_train)"
      ]
    },
    {
      "cell_type": "markdown",
      "id": "092294fe",
      "metadata": {
        "id": "092294fe"
      },
      "source": [
        "### Model Testing"
      ]
    },
    {
      "cell_type": "code",
      "execution_count": 13,
      "id": "952f2b21",
      "metadata": {
        "colab": {
          "base_uri": "https://localhost:8080/"
        },
        "id": "952f2b21",
        "outputId": "39b3a662-380a-4fd1-8e68-db97a6058a27"
      },
      "outputs": [
        {
          "output_type": "stream",
          "name": "stdout",
          "text": [
            "[2 2 1 ... 2 2 2]\n"
          ]
        }
      ],
      "source": [
        "y_pred = logmodel.predict(X_test)\n",
        "print(y_pred)"
      ]
    },
    {
      "cell_type": "markdown",
      "id": "963285b4",
      "metadata": {
        "id": "963285b4"
      },
      "source": [
        "### Confusion Matrix"
      ]
    },
    {
      "cell_type": "code",
      "execution_count": 14,
      "id": "e942d4db",
      "metadata": {
        "colab": {
          "base_uri": "https://localhost:8080/"
        },
        "id": "e942d4db",
        "outputId": "420bfdca-8827-4da6-d8a4-eecc93712b2c"
      },
      "outputs": [
        {
          "output_type": "stream",
          "name": "stdout",
          "text": [
            "[[12683  2657]\n",
            " [ 3203 54975]]\n"
          ]
        }
      ],
      "source": [
        "cmat = confusion_matrix(y_test,y_pred)\n",
        "print(cmat)"
      ]
    },
    {
      "cell_type": "markdown",
      "id": "622c1f52",
      "metadata": {
        "id": "622c1f52"
      },
      "source": [
        "### Accuracy of the model"
      ]
    },
    {
      "cell_type": "code",
      "execution_count": 15,
      "id": "08b1bb84",
      "metadata": {
        "colab": {
          "base_uri": "https://localhost:8080/"
        },
        "id": "08b1bb84",
        "outputId": "06ba36ca-896f-4535-c336-8745a7416163"
      },
      "outputs": [
        {
          "output_type": "stream",
          "name": "stdout",
          "text": [
            "Accuracy:  92.02916292608613\n"
          ]
        }
      ],
      "source": [
        "print(\"Accuracy: \", accuracy_score(y_test,y_pred)*100)"
      ]
    },
    {
      "cell_type": "markdown",
      "id": "db377c31",
      "metadata": {
        "id": "db377c31"
      },
      "source": [
        "# Multilayer Perceptron Classification Implementation "
      ]
    },
    {
      "cell_type": "markdown",
      "id": "2cbfa474",
      "metadata": {
        "id": "2cbfa474"
      },
      "source": [
        "### Model Training"
      ]
    },
    {
      "cell_type": "code",
      "execution_count": 16,
      "id": "c85eb1d2",
      "metadata": {
        "colab": {
          "base_uri": "https://localhost:8080/"
        },
        "id": "c85eb1d2",
        "outputId": "d3f640f5-d01e-4aef-89ea-bcca4f91b6cb"
      },
      "outputs": [
        {
          "output_type": "execute_result",
          "data": {
            "text/plain": [
              "Perceptron(penalty='none')"
            ]
          },
          "metadata": {},
          "execution_count": 16
        }
      ],
      "source": [
        "p_clf=Perceptron(penalty=\"none\",random_state=0)\n",
        "p_clf.fit(X_train,y_train)"
      ]
    },
    {
      "cell_type": "markdown",
      "id": "02c75ff9",
      "metadata": {
        "id": "02c75ff9"
      },
      "source": [
        "### Model Testing"
      ]
    },
    {
      "cell_type": "code",
      "execution_count": 17,
      "id": "d6edf33c",
      "metadata": {
        "id": "d6edf33c"
      },
      "outputs": [],
      "source": [
        "y_predP=p_clf.predict(X_test)"
      ]
    },
    {
      "cell_type": "markdown",
      "id": "3d508809",
      "metadata": {
        "id": "3d508809"
      },
      "source": [
        "### Confusion Matrix"
      ]
    },
    {
      "cell_type": "code",
      "execution_count": 18,
      "id": "390852c9",
      "metadata": {
        "colab": {
          "base_uri": "https://localhost:8080/"
        },
        "id": "390852c9",
        "outputId": "a2c253ae-49dc-4300-963b-74ce04de6642"
      },
      "outputs": [
        {
          "output_type": "stream",
          "name": "stdout",
          "text": [
            "[[  357 14983]\n",
            " [ 1685 56493]]\n"
          ]
        }
      ],
      "source": [
        "cmat = confusion_matrix(y_test,y_predP)\n",
        "print(cmat)"
      ]
    },
    {
      "cell_type": "markdown",
      "id": "2904ed9f",
      "metadata": {
        "id": "2904ed9f"
      },
      "source": [
        "### Accuracy of the model"
      ]
    },
    {
      "cell_type": "code",
      "execution_count": 19,
      "id": "b107a9b8",
      "metadata": {
        "colab": {
          "base_uri": "https://localhost:8080/"
        },
        "id": "b107a9b8",
        "outputId": "aa5587fa-acb2-4bf8-e3a7-d778c5bce978"
      },
      "outputs": [
        {
          "output_type": "stream",
          "name": "stdout",
          "text": [
            "Accuracy:  77.32800130580266\n"
          ]
        }
      ],
      "source": [
        "print(\"Accuracy: \", accuracy_score(y_test,y_predP)*100)"
      ]
    },
    {
      "cell_type": "markdown",
      "id": "4ad95e5f",
      "metadata": {
        "id": "4ad95e5f"
      },
      "source": [
        "\n",
        "# SVM Classification Implementation "
      ]
    },
    {
      "cell_type": "markdown",
      "id": "3b57e4d4",
      "metadata": {
        "id": "3b57e4d4"
      },
      "source": [
        "### Model Training"
      ]
    },
    {
      "cell_type": "code",
      "execution_count": 20,
      "id": "732e16c0",
      "metadata": {
        "colab": {
          "base_uri": "https://localhost:8080/"
        },
        "id": "732e16c0",
        "outputId": "0afc56f0-407e-4d9e-9307-04c46202f61a"
      },
      "outputs": [
        {
          "output_type": "execute_result",
          "data": {
            "text/plain": [
              "SVC(decision_function_shape='ovo')"
            ]
          },
          "metadata": {},
          "execution_count": 20
        }
      ],
      "source": [
        "svm = SVC(decision_function_shape='ovo')\n",
        "svm.fit(X_train, y_train)"
      ]
    },
    {
      "cell_type": "markdown",
      "id": "3c5b1ac7",
      "metadata": {
        "id": "3c5b1ac7"
      },
      "source": [
        "### Model Testing"
      ]
    },
    {
      "cell_type": "code",
      "execution_count": 21,
      "id": "3e16041e",
      "metadata": {
        "colab": {
          "base_uri": "https://localhost:8080/"
        },
        "id": "3e16041e",
        "outputId": "eed29c4d-bf7c-4309-9aa9-6e6e57ec1dfa"
      },
      "outputs": [
        {
          "output_type": "stream",
          "name": "stdout",
          "text": [
            "[2 2 1 ... 2 2 2]\n"
          ]
        }
      ],
      "source": [
        "svm_pred = svm.predict(X_test)\n",
        "print(svm_pred)"
      ]
    },
    {
      "cell_type": "markdown",
      "id": "a8e15e87",
      "metadata": {
        "id": "a8e15e87"
      },
      "source": [
        "### Confusion Matrix"
      ]
    },
    {
      "cell_type": "code",
      "execution_count": 22,
      "id": "a08120da",
      "metadata": {
        "colab": {
          "base_uri": "https://localhost:8080/"
        },
        "id": "a08120da",
        "outputId": "12ea7457-30d1-4b8e-faa7-93275430a490"
      },
      "outputs": [
        {
          "output_type": "stream",
          "name": "stdout",
          "text": [
            "[[15340     0]\n",
            " [  114 58064]]\n"
          ]
        }
      ],
      "source": [
        "cmat = confusion_matrix(y_test, svm_pred)\n",
        "print(cmat)"
      ]
    },
    {
      "cell_type": "markdown",
      "id": "98d5a56c",
      "metadata": {
        "id": "98d5a56c"
      },
      "source": [
        "### Accuracy of the model"
      ]
    },
    {
      "cell_type": "code",
      "execution_count": 23,
      "id": "a25bbdb6",
      "metadata": {
        "colab": {
          "base_uri": "https://localhost:8080/"
        },
        "id": "a25bbdb6",
        "outputId": "8425349f-eef7-4d42-c2e6-ed07016972e1"
      },
      "outputs": [
        {
          "output_type": "stream",
          "name": "stdout",
          "text": [
            "Accuracy:  99.84493593405696\n"
          ]
        }
      ],
      "source": [
        "print(\"Accuracy: \", accuracy_score(y_test,svm_pred)*100)"
      ]
    },
    {
      "cell_type": "markdown",
      "id": "e0e0b874",
      "metadata": {
        "id": "e0e0b874"
      },
      "source": [
        "# Adaboost Algorithm Implementation "
      ]
    },
    {
      "cell_type": "markdown",
      "id": "76945039",
      "metadata": {
        "id": "76945039"
      },
      "source": [
        "### Model Training"
      ]
    },
    {
      "cell_type": "code",
      "execution_count": 24,
      "id": "275e856e",
      "metadata": {
        "id": "275e856e"
      },
      "outputs": [],
      "source": [
        "abc = AdaBoostClassifier(n_estimators=50,\n",
        "                         learning_rate=1)\n",
        "model = abc.fit(X_train, y_train)"
      ]
    },
    {
      "cell_type": "markdown",
      "id": "6a9b67bb",
      "metadata": {
        "id": "6a9b67bb"
      },
      "source": [
        "### Model Testing"
      ]
    },
    {
      "cell_type": "code",
      "execution_count": 25,
      "id": "1bb7724f",
      "metadata": {
        "colab": {
          "base_uri": "https://localhost:8080/"
        },
        "id": "1bb7724f",
        "outputId": "ed952ef8-7c9b-48f1-9465-d59a58ccaced"
      },
      "outputs": [
        {
          "output_type": "stream",
          "name": "stdout",
          "text": [
            "[2 2 1 ... 2 2 2]\n"
          ]
        }
      ],
      "source": [
        "y_pred = model.predict(X_test)\n",
        "print(y_pred)"
      ]
    },
    {
      "cell_type": "markdown",
      "id": "a9ef0b64",
      "metadata": {
        "id": "a9ef0b64"
      },
      "source": [
        "### Confusion Matrix"
      ]
    },
    {
      "cell_type": "code",
      "execution_count": 26,
      "id": "7abb5564",
      "metadata": {
        "colab": {
          "base_uri": "https://localhost:8080/"
        },
        "id": "7abb5564",
        "outputId": "3b424130-5a10-4e82-8df0-2f38d536b317"
      },
      "outputs": [
        {
          "output_type": "stream",
          "name": "stdout",
          "text": [
            "[[13250  2090]\n",
            " [ 1444 56734]]\n"
          ]
        }
      ],
      "source": [
        "cmat = confusion_matrix(y_test, y_pred)\n",
        "print(cmat)"
      ]
    },
    {
      "cell_type": "markdown",
      "id": "c0babae2",
      "metadata": {
        "id": "c0babae2"
      },
      "source": [
        "### Accuracy of the model"
      ]
    },
    {
      "cell_type": "code",
      "execution_count": 27,
      "id": "e138453a",
      "metadata": {
        "colab": {
          "base_uri": "https://localhost:8080/"
        },
        "id": "e138453a",
        "outputId": "b59d8114-aaf1-49e6-be8c-18ed02666d77"
      },
      "outputs": [
        {
          "output_type": "stream",
          "name": "stdout",
          "text": [
            "Accuracy:  95.19301395576593\n"
          ]
        }
      ],
      "source": [
        "print(\"Accuracy: \", accuracy_score(y_test,y_pred)*100)"
      ]
    },
    {
      "cell_type": "markdown",
      "id": "15550295",
      "metadata": {
        "id": "15550295"
      },
      "source": [
        "# Bagging Implementation Using Random Forests "
      ]
    },
    {
      "cell_type": "markdown",
      "id": "274eeca6",
      "metadata": {
        "id": "274eeca6"
      },
      "source": [
        "### Model Training"
      ]
    },
    {
      "cell_type": "code",
      "execution_count": 28,
      "id": "28988adc",
      "metadata": {
        "colab": {
          "base_uri": "https://localhost:8080/"
        },
        "id": "28988adc",
        "outputId": "a04f5b5c-9508-4093-f538-375d3564904a"
      },
      "outputs": [
        {
          "output_type": "execute_result",
          "data": {
            "text/plain": [
              "RandomForestRegressor(n_estimators=20, random_state=0)"
            ]
          },
          "metadata": {},
          "execution_count": 28
        }
      ],
      "source": [
        "sc = StandardScaler() \n",
        "X_train = sc.fit_transform(X_train) \n",
        "X_test = sc.transform(X_test)\n",
        "regressor = RandomForestRegressor(n_estimators=20,random_state=0) \n",
        "regressor.fit(X_train, y_train) "
      ]
    },
    {
      "cell_type": "markdown",
      "id": "1f8e2bac",
      "metadata": {
        "id": "1f8e2bac"
      },
      "source": [
        "### Model Testing"
      ]
    },
    {
      "cell_type": "code",
      "execution_count": 29,
      "id": "c08c191c",
      "metadata": {
        "colab": {
          "base_uri": "https://localhost:8080/"
        },
        "id": "c08c191c",
        "outputId": "6b0e7531-2633-4d38-95db-7ea712fde8fe"
      },
      "outputs": [
        {
          "output_type": "stream",
          "name": "stdout",
          "text": [
            "[2. 2. 1. ... 2. 2. 2.]\n"
          ]
        }
      ],
      "source": [
        "y_pred = regressor.predict(X_test)\n",
        "for i in range(len(y_pred)):\n",
        "    y_pred[i] = int(y_pred[i])\n",
        "print(y_pred)"
      ]
    },
    {
      "cell_type": "markdown",
      "id": "71554e69",
      "metadata": {
        "id": "71554e69"
      },
      "source": [
        "### Confusion Matrix"
      ]
    },
    {
      "cell_type": "code",
      "execution_count": 30,
      "id": "25f50643",
      "metadata": {
        "colab": {
          "base_uri": "https://localhost:8080/"
        },
        "id": "25f50643",
        "outputId": "ca49a12e-9f82-4f8f-f855-40042ee85cc3"
      },
      "outputs": [
        {
          "output_type": "stream",
          "name": "stdout",
          "text": [
            "[[15337     3]\n",
            " [  136 58042]]\n"
          ]
        }
      ],
      "source": [
        "cmat = confusion_matrix(y_test, y_pred)\n",
        "print(cmat)"
      ]
    },
    {
      "cell_type": "markdown",
      "id": "d7c766ce",
      "metadata": {
        "id": "d7c766ce"
      },
      "source": [
        "### Accuracy of the model"
      ]
    },
    {
      "cell_type": "code",
      "execution_count": 31,
      "id": "3e70d26f",
      "metadata": {
        "colab": {
          "base_uri": "https://localhost:8080/"
        },
        "id": "3e70d26f",
        "outputId": "43b6f592-f806-4ac6-a5a7-b5bd5444179c"
      },
      "outputs": [
        {
          "output_type": "stream",
          "name": "stdout",
          "text": [
            "Accuracy:  99.81093065643788\n"
          ]
        }
      ],
      "source": [
        "print(\"Accuracy: \", accuracy_score(y_test,y_pred)*100)"
      ]
    },
    {
      "cell_type": "markdown",
      "id": "d51b5c8a",
      "metadata": {
        "id": "d51b5c8a"
      },
      "source": [
        "\n",
        "# K Means Clustering Implementation "
      ]
    },
    {
      "cell_type": "markdown",
      "id": "09b90bd9",
      "metadata": {
        "id": "09b90bd9"
      },
      "source": [
        "### Model Training"
      ]
    },
    {
      "cell_type": "code",
      "execution_count": 32,
      "id": "415bf7fd",
      "metadata": {
        "colab": {
          "base_uri": "https://localhost:8080/",
          "height": 441
        },
        "id": "415bf7fd",
        "outputId": "85441925-fe4e-4c16-be41-d1fe0a1ca4d4"
      },
      "outputs": [
        {
          "output_type": "stream",
          "name": "stdout",
          "text": [
            "{0, 1, 2}\n"
          ]
        },
        {
          "output_type": "execute_result",
          "data": {
            "text/plain": [
              "        0\n",
              "0       0\n",
              "1       0\n",
              "2       0\n",
              "3       0\n",
              "4       0\n",
              "...    ..\n",
              "171534  0\n",
              "171535  0\n",
              "171536  0\n",
              "171537  0\n",
              "171538  2\n",
              "\n",
              "[171539 rows x 1 columns]"
            ],
            "text/html": [
              "\n",
              "  <div id=\"df-b47e4584-d474-4993-9aa6-ec9e52252c6b\">\n",
              "    <div class=\"colab-df-container\">\n",
              "      <div>\n",
              "<style scoped>\n",
              "    .dataframe tbody tr th:only-of-type {\n",
              "        vertical-align: middle;\n",
              "    }\n",
              "\n",
              "    .dataframe tbody tr th {\n",
              "        vertical-align: top;\n",
              "    }\n",
              "\n",
              "    .dataframe thead th {\n",
              "        text-align: right;\n",
              "    }\n",
              "</style>\n",
              "<table border=\"1\" class=\"dataframe\">\n",
              "  <thead>\n",
              "    <tr style=\"text-align: right;\">\n",
              "      <th></th>\n",
              "      <th>0</th>\n",
              "    </tr>\n",
              "  </thead>\n",
              "  <tbody>\n",
              "    <tr>\n",
              "      <th>0</th>\n",
              "      <td>0</td>\n",
              "    </tr>\n",
              "    <tr>\n",
              "      <th>1</th>\n",
              "      <td>0</td>\n",
              "    </tr>\n",
              "    <tr>\n",
              "      <th>2</th>\n",
              "      <td>0</td>\n",
              "    </tr>\n",
              "    <tr>\n",
              "      <th>3</th>\n",
              "      <td>0</td>\n",
              "    </tr>\n",
              "    <tr>\n",
              "      <th>4</th>\n",
              "      <td>0</td>\n",
              "    </tr>\n",
              "    <tr>\n",
              "      <th>...</th>\n",
              "      <td>...</td>\n",
              "    </tr>\n",
              "    <tr>\n",
              "      <th>171534</th>\n",
              "      <td>0</td>\n",
              "    </tr>\n",
              "    <tr>\n",
              "      <th>171535</th>\n",
              "      <td>0</td>\n",
              "    </tr>\n",
              "    <tr>\n",
              "      <th>171536</th>\n",
              "      <td>0</td>\n",
              "    </tr>\n",
              "    <tr>\n",
              "      <th>171537</th>\n",
              "      <td>0</td>\n",
              "    </tr>\n",
              "    <tr>\n",
              "      <th>171538</th>\n",
              "      <td>2</td>\n",
              "    </tr>\n",
              "  </tbody>\n",
              "</table>\n",
              "<p>171539 rows × 1 columns</p>\n",
              "</div>\n",
              "      <button class=\"colab-df-convert\" onclick=\"convertToInteractive('df-b47e4584-d474-4993-9aa6-ec9e52252c6b')\"\n",
              "              title=\"Convert this dataframe to an interactive table.\"\n",
              "              style=\"display:none;\">\n",
              "        \n",
              "  <svg xmlns=\"http://www.w3.org/2000/svg\" height=\"24px\"viewBox=\"0 0 24 24\"\n",
              "       width=\"24px\">\n",
              "    <path d=\"M0 0h24v24H0V0z\" fill=\"none\"/>\n",
              "    <path d=\"M18.56 5.44l.94 2.06.94-2.06 2.06-.94-2.06-.94-.94-2.06-.94 2.06-2.06.94zm-11 1L8.5 8.5l.94-2.06 2.06-.94-2.06-.94L8.5 2.5l-.94 2.06-2.06.94zm10 10l.94 2.06.94-2.06 2.06-.94-2.06-.94-.94-2.06-.94 2.06-2.06.94z\"/><path d=\"M17.41 7.96l-1.37-1.37c-.4-.4-.92-.59-1.43-.59-.52 0-1.04.2-1.43.59L10.3 9.45l-7.72 7.72c-.78.78-.78 2.05 0 2.83L4 21.41c.39.39.9.59 1.41.59.51 0 1.02-.2 1.41-.59l7.78-7.78 2.81-2.81c.8-.78.8-2.07 0-2.86zM5.41 20L4 18.59l7.72-7.72 1.47 1.35L5.41 20z\"/>\n",
              "  </svg>\n",
              "      </button>\n",
              "      \n",
              "  <style>\n",
              "    .colab-df-container {\n",
              "      display:flex;\n",
              "      flex-wrap:wrap;\n",
              "      gap: 12px;\n",
              "    }\n",
              "\n",
              "    .colab-df-convert {\n",
              "      background-color: #E8F0FE;\n",
              "      border: none;\n",
              "      border-radius: 50%;\n",
              "      cursor: pointer;\n",
              "      display: none;\n",
              "      fill: #1967D2;\n",
              "      height: 32px;\n",
              "      padding: 0 0 0 0;\n",
              "      width: 32px;\n",
              "    }\n",
              "\n",
              "    .colab-df-convert:hover {\n",
              "      background-color: #E2EBFA;\n",
              "      box-shadow: 0px 1px 2px rgba(60, 64, 67, 0.3), 0px 1px 3px 1px rgba(60, 64, 67, 0.15);\n",
              "      fill: #174EA6;\n",
              "    }\n",
              "\n",
              "    [theme=dark] .colab-df-convert {\n",
              "      background-color: #3B4455;\n",
              "      fill: #D2E3FC;\n",
              "    }\n",
              "\n",
              "    [theme=dark] .colab-df-convert:hover {\n",
              "      background-color: #434B5C;\n",
              "      box-shadow: 0px 1px 3px 1px rgba(0, 0, 0, 0.15);\n",
              "      filter: drop-shadow(0px 1px 2px rgba(0, 0, 0, 0.3));\n",
              "      fill: #FFFFFF;\n",
              "    }\n",
              "  </style>\n",
              "\n",
              "      <script>\n",
              "        const buttonEl =\n",
              "          document.querySelector('#df-b47e4584-d474-4993-9aa6-ec9e52252c6b button.colab-df-convert');\n",
              "        buttonEl.style.display =\n",
              "          google.colab.kernel.accessAllowed ? 'block' : 'none';\n",
              "\n",
              "        async function convertToInteractive(key) {\n",
              "          const element = document.querySelector('#df-b47e4584-d474-4993-9aa6-ec9e52252c6b');\n",
              "          const dataTable =\n",
              "            await google.colab.kernel.invokeFunction('convertToInteractive',\n",
              "                                                     [key], {});\n",
              "          if (!dataTable) return;\n",
              "\n",
              "          const docLinkHtml = 'Like what you see? Visit the ' +\n",
              "            '<a target=\"_blank\" href=https://colab.research.google.com/notebooks/data_table.ipynb>data table notebook</a>'\n",
              "            + ' to learn more about interactive tables.';\n",
              "          element.innerHTML = '';\n",
              "          dataTable['output_type'] = 'display_data';\n",
              "          await google.colab.output.renderOutput(dataTable, element);\n",
              "          const docLink = document.createElement('div');\n",
              "          docLink.innerHTML = docLinkHtml;\n",
              "          element.appendChild(docLink);\n",
              "        }\n",
              "      </script>\n",
              "    </div>\n",
              "  </div>\n",
              "  "
            ]
          },
          "metadata": {},
          "execution_count": 32
        }
      ],
      "source": [
        "kmeans = KMeans(3)\n",
        "identified_clusters = kmeans.fit_predict(X_train)\n",
        "print(set(identified_clusters))\n",
        "df = pd.DataFrame(identified_clusters)\n",
        "df"
      ]
    },
    {
      "cell_type": "code",
      "execution_count": 33,
      "id": "3cf7eea1",
      "metadata": {
        "colab": {
          "base_uri": "https://localhost:8080/",
          "height": 282
        },
        "id": "3cf7eea1",
        "outputId": "d2c79f61-a573-4f04-f7a7-b4ac592a1bee"
      },
      "outputs": [
        {
          "output_type": "execute_result",
          "data": {
            "text/plain": [
              "<matplotlib.collections.PathCollection at 0x7f2ef8043ed0>"
            ]
          },
          "metadata": {},
          "execution_count": 33
        },
        {
          "output_type": "display_data",
          "data": {
            "text/plain": [
              "<Figure size 432x288 with 1 Axes>"
            ],
            "image/png": "[encoded data removed]"
          },
          "metadata": {
            "needs_background": "light"
          }
        }
      ],
      "source": [
        "plt.scatter(X_train[:,0], \n",
        "            X_train[:,1])\n",
        "plt.scatter(kmeans.cluster_centers_[:, 0], \n",
        "            kmeans.cluster_centers_[:, 1], \n",
        "            s=200,                             \n",
        "            c='red')"
      ]
    },
    {
      "cell_type": "markdown",
      "id": "0911fed1",
      "metadata": {
        "id": "0911fed1"
      },
      "source": [
        "\n",
        "# Principle Component Analysis Implementation for Dimensionality Reduction"
      ]
    },
    {
      "cell_type": "markdown",
      "id": "c6652338",
      "metadata": {
        "id": "c6652338"
      },
      "source": [
        "### Model Training"
      ]
    },
    {
      "cell_type": "code",
      "execution_count": 34,
      "id": "d180f907",
      "metadata": {
        "id": "d180f907"
      },
      "outputs": [],
      "source": [
        "scalar = StandardScaler()\n",
        "df = pd.DataFrame(X_train)\n",
        "df_scaled = pd.DataFrame(scalar.fit_transform(df), columns=df.columns)\n",
        "pca = PCA()\n",
        "df_pca = pca.fit_transform(df_scaled)"
      ]
    },
    {
      "cell_type": "code",
      "execution_count": 35,
      "id": "90c22739",
      "metadata": {
        "colab": {
          "base_uri": "https://localhost:8080/",
          "height": 276
        },
        "id": "90c22739",
        "outputId": "1a569e20-1f42-4c59-84df-20ad492f3294"
      },
      "outputs": [
        {
          "output_type": "display_data",
          "data": {
            "text/plain": [
              "<Figure size 432x288 with 1 Axes>"
            ],
            "image/png": "[encoded data removed]"
          },
          "metadata": {
            "needs_background": "light"
          }
        }
      ],
      "source": [
        "pd.DataFrame(pca.explained_variance_ratio_).plot.bar()\n",
        "plt.legend('')\n",
        "plt.xlabel('Principal Components')\n",
        "plt.ylabel('Explained Varience');"
      ]
    },
    {
      "cell_type": "markdown",
      "id": "5d9f0df9",
      "metadata": {
        "id": "5d9f0df9"
      },
      "source": [
        "\n",
        "# Evaluation of ML Algorithms with Balanced and Unbalanced Datasets\n",
        "\n",
        "##### All the previous ML Models were trained using Balanced Datasets"
      ]
    },
    {
      "cell_type": "markdown",
      "id": "e626a045",
      "metadata": {
        "id": "e626a045"
      },
      "source": [
        "##### Reading the Unbalanced Dataset"
      ]
    },
    {
      "cell_type": "code",
      "execution_count": 36,
      "id": "41342111",
      "metadata": {
        "colab": {
          "base_uri": "https://localhost:8080/"
        },
        "id": "41342111",
        "outputId": "70c4c88e-5e89-4da1-cf90-f393e73deaa7"
      },
      "outputs": [
        {
          "output_type": "stream",
          "name": "stdout",
          "text": [
            "       74  85  123  1\n",
            "0      73  84  122  1\n",
            "1      72  83  121  1\n",
            "2      70  81  119  1\n",
            "3      70  81  119  1\n",
            "4      69  80  118  1\n",
            "...    ..  ..  ... ..\n",
            "79060  16  14    4  2\n",
            "79061  16  14    4  2\n",
            "79062  16  14    3  2\n",
            "79063  20  17    3  2\n",
            "79064  20  17    2  2\n",
            "\n",
            "[79065 rows x 4 columns]\n"
          ]
        }
      ],
      "source": [
        "df = pd.read_csv(\"unbalanced_dataset.csv\",sep = \"\\t\" )\n",
        "print(df)"
      ]
    },
    {
      "cell_type": "code",
      "execution_count": 37,
      "id": "6f2c061e",
      "metadata": {
        "colab": {
          "base_uri": "https://localhost:8080/",
          "height": 206
        },
        "id": "6f2c061e",
        "outputId": "ef6c9fd3-de46-4d78-8d1f-ec58a1b5992a"
      },
      "outputs": [
        {
          "output_type": "execute_result",
          "data": {
            "text/plain": [
              "   74  85  123  1\n",
              "0  73  84  122  1\n",
              "1  72  83  121  1\n",
              "2  70  81  119  1\n",
              "3  70  81  119  1\n",
              "4  69  80  118  1"
            ],
            "text/html": [
              "\n",
              "  <div id=\"df-5fadc445-f1ad-4256-91ba-4ed0cd35f6e5\">\n",
              "    <div class=\"colab-df-container\">\n",
              "      <div>\n",
              "<style scoped>\n",
              "    .dataframe tbody tr th:only-of-type {\n",
              "        vertical-align: middle;\n",
              "    }\n",
              "\n",
              "    .dataframe tbody tr th {\n",
              "        vertical-align: top;\n",
              "    }\n",
              "\n",
              "    .dataframe thead th {\n",
              "        text-align: right;\n",
              "    }\n",
              "</style>\n",
              "<table border=\"1\" class=\"dataframe\">\n",
              "  <thead>\n",
              "    <tr style=\"text-align: right;\">\n",
              "      <th></th>\n",
              "      <th>74</th>\n",
              "      <th>85</th>\n",
              "      <th>123</th>\n",
              "      <th>1</th>\n",
              "    </tr>\n",
              "  </thead>\n",
              "  <tbody>\n",
              "    <tr>\n",
              "      <th>0</th>\n",
              "      <td>73</td>\n",
              "      <td>84</td>\n",
              "      <td>122</td>\n",
              "      <td>1</td>\n",
              "    </tr>\n",
              "    <tr>\n",
              "      <th>1</th>\n",
              "      <td>72</td>\n",
              "      <td>83</td>\n",
              "      <td>121</td>\n",
              "      <td>1</td>\n",
              "    </tr>\n",
              "    <tr>\n",
              "      <th>2</th>\n",
              "      <td>70</td>\n",
              "      <td>81</td>\n",
              "      <td>119</td>\n",
              "      <td>1</td>\n",
              "    </tr>\n",
              "    <tr>\n",
              "      <th>3</th>\n",
              "      <td>70</td>\n",
              "      <td>81</td>\n",
              "      <td>119</td>\n",
              "      <td>1</td>\n",
              "    </tr>\n",
              "    <tr>\n",
              "      <th>4</th>\n",
              "      <td>69</td>\n",
              "      <td>80</td>\n",
              "      <td>118</td>\n",
              "      <td>1</td>\n",
              "    </tr>\n",
              "  </tbody>\n",
              "</table>\n",
              "</div>\n",
              "      <button class=\"colab-df-convert\" onclick=\"convertToInteractive('df-5fadc445-f1ad-4256-91ba-4ed0cd35f6e5')\"\n",
              "              title=\"Convert this dataframe to an interactive table.\"\n",
              "              style=\"display:none;\">\n",
              "        \n",
              "  <svg xmlns=\"http://www.w3.org/2000/svg\" height=\"24px\"viewBox=\"0 0 24 24\"\n",
              "       width=\"24px\">\n",
              "    <path d=\"M0 0h24v24H0V0z\" fill=\"none\"/>\n",
              "    <path d=\"M18.56 5.44l.94 2.06.94-2.06 2.06-.94-2.06-.94-.94-2.06-.94 2.06-2.06.94zm-11 1L8.5 8.5l.94-2.06 2.06-.94-2.06-.94L8.5 2.5l-.94 2.06-2.06.94zm10 10l.94 2.06.94-2.06 2.06-.94-2.06-.94-.94-2.06-.94 2.06-2.06.94z\"/><path d=\"M17.41 7.96l-1.37-1.37c-.4-.4-.92-.59-1.43-.59-.52 0-1.04.2-1.43.59L10.3 9.45l-7.72 7.72c-.78.78-.78 2.05 0 2.83L4 21.41c.39.39.9.59 1.41.59.51 0 1.02-.2 1.41-.59l7.78-7.78 2.81-2.81c.8-.78.8-2.07 0-2.86zM5.41 20L4 18.59l7.72-7.72 1.47 1.35L5.41 20z\"/>\n",
              "  </svg>\n",
              "      </button>\n",
              "      \n",
              "  <style>\n",
              "    .colab-df-container {\n",
              "      display:flex;\n",
              "      flex-wrap:wrap;\n",
              "      gap: 12px;\n",
              "    }\n",
              "\n",
              "    .colab-df-convert {\n",
              "      background-color: #E8F0FE;\n",
              "      border: none;\n",
              "      border-radius: 50%;\n",
              "      cursor: pointer;\n",
              "      display: none;\n",
              "      fill: #1967D2;\n",
              "      height: 32px;\n",
              "      padding: 0 0 0 0;\n",
              "      width: 32px;\n",
              "    }\n",
              "\n",
              "    .colab-df-convert:hover {\n",
              "      background-color: #E2EBFA;\n",
              "      box-shadow: 0px 1px 2px rgba(60, 64, 67, 0.3), 0px 1px 3px 1px rgba(60, 64, 67, 0.15);\n",
              "      fill: #174EA6;\n",
              "    }\n",
              "\n",
              "    [theme=dark] .colab-df-convert {\n",
              "      background-color: #3B4455;\n",
              "      fill: #D2E3FC;\n",
              "    }\n",
              "\n",
              "    [theme=dark] .colab-df-convert:hover {\n",
              "      background-color: #434B5C;\n",
              "      box-shadow: 0px 1px 3px 1px rgba(0, 0, 0, 0.15);\n",
              "      filter: drop-shadow(0px 1px 2px rgba(0, 0, 0, 0.3));\n",
              "      fill: #FFFFFF;\n",
              "    }\n",
              "  </style>\n",
              "\n",
              "      <script>\n",
              "        const buttonEl =\n",
              "          document.querySelector('#df-5fadc445-f1ad-4256-91ba-4ed0cd35f6e5 button.colab-df-convert');\n",
              "        buttonEl.style.display =\n",
              "          google.colab.kernel.accessAllowed ? 'block' : 'none';\n",
              "\n",
              "        async function convertToInteractive(key) {\n",
              "          const element = document.querySelector('#df-5fadc445-f1ad-4256-91ba-4ed0cd35f6e5');\n",
              "          const dataTable =\n",
              "            await google.colab.kernel.invokeFunction('convertToInteractive',\n",
              "                                                     [key], {});\n",
              "          if (!dataTable) return;\n",
              "\n",
              "          const docLinkHtml = 'Like what you see? Visit the ' +\n",
              "            '<a target=\"_blank\" href=https://colab.research.google.com/notebooks/data_table.ipynb>data table notebook</a>'\n",
              "            + ' to learn more about interactive tables.';\n",
              "          element.innerHTML = '';\n",
              "          dataTable['output_type'] = 'display_data';\n",
              "          await google.colab.output.renderOutput(dataTable, element);\n",
              "          const docLink = document.createElement('div');\n",
              "          docLink.innerHTML = docLinkHtml;\n",
              "          element.appendChild(docLink);\n",
              "        }\n",
              "      </script>\n",
              "    </div>\n",
              "  </div>\n",
              "  "
            ]
          },
          "metadata": {},
          "execution_count": 37
        }
      ],
      "source": [
        "df.head()"
      ]
    },
    {
      "cell_type": "markdown",
      "id": "7974b8fa",
      "metadata": {
        "id": "7974b8fa"
      },
      "source": [
        "### Splitting data into features and labels"
      ]
    },
    {
      "cell_type": "code",
      "execution_count": 38,
      "id": "a7a7566d",
      "metadata": {
        "colab": {
          "base_uri": "https://localhost:8080/"
        },
        "id": "a7a7566d",
        "outputId": "e21d949f-4f05-4f23-ed21-c60ca6476477"
      },
      "outputs": [
        {
          "output_type": "stream",
          "name": "stdout",
          "text": [
            "[[ 73  84 122]\n",
            " [ 72  83 121]\n",
            " [ 70  81 119]\n",
            " ...\n",
            " [ 16  14   3]\n",
            " [ 20  17   3]\n",
            " [ 20  17   2]]\n",
            "[1 1 1 ... 2 2 2]\n"
          ]
        }
      ],
      "source": [
        "X_vals = df.values[:,0:3]\n",
        "Y_vals = df.values[:, 3]\n",
        "print(X_vals)\n",
        "print(Y_vals)"
      ]
    },
    {
      "cell_type": "markdown",
      "id": "a87d6961",
      "metadata": {
        "id": "a87d6961"
      },
      "source": [
        "### Splitting the data into training data and testing data"
      ]
    },
    {
      "cell_type": "code",
      "execution_count": 39,
      "id": "bac184c3",
      "metadata": {
        "id": "bac184c3"
      },
      "outputs": [],
      "source": [
        "X_train, X_test, y_train, y_test = train_test_split(X_vals,\n",
        "                                                    Y_vals,\n",
        "                                                    test_size = 0.3,\n",
        "                                                    random_state = 100)"
      ]
    },
    {
      "cell_type": "code",
      "execution_count": 40,
      "id": "24d11629",
      "metadata": {
        "scrolled": false,
        "colab": {
          "base_uri": "https://localhost:8080/"
        },
        "id": "24d11629",
        "outputId": "6d446b83-b78d-4bd8-dad9-ba5407684cf9"
      },
      "outputs": [
        {
          "output_type": "stream",
          "name": "stdout",
          "text": [
            "Training Data Features\n",
            "[[165 179 232]\n",
            " [ 74 109 173]\n",
            " [200 211 255]\n",
            " ...\n",
            " [164 163 113]\n",
            " [187 186 142]\n",
            " [176 186 233]]\n",
            "Training Data Labels\n",
            "[1 1 1 ... 2 2 1]\n",
            "Test Data Features\n",
            "[[150 188 252]\n",
            " [ 62  63  21]\n",
            " [170 169 119]\n",
            " ...\n",
            " [109 147 205]\n",
            " [179 178 134]\n",
            " [192 192 152]]\n",
            "Test Data Labels\n",
            "[1 2 2 ... 1 2 2]\n"
          ]
        }
      ],
      "source": [
        "print(\"Training Data Features\",X_train,\n",
        "      \"Training Data Labels\",y_train,\n",
        "      \"Test Data Features\",X_test,\n",
        "      \"Test Data Labels\",y_test,\n",
        "      sep = \"\\n\")"
      ]
    },
    {
      "cell_type": "markdown",
      "id": "750621f5",
      "metadata": {
        "id": "750621f5"
      },
      "source": [
        "### Decision tree implementation using unbalanced dataset"
      ]
    },
    {
      "cell_type": "code",
      "execution_count": 41,
      "id": "0b1e7820",
      "metadata": {
        "colab": {
          "base_uri": "https://localhost:8080/"
        },
        "id": "0b1e7820",
        "outputId": "74c1bb32-d56c-44a6-d578-87a9008e5f98"
      },
      "outputs": [
        {
          "output_type": "stream",
          "name": "stdout",
          "text": [
            "Accuracy:  97.93844856661046\n"
          ]
        }
      ],
      "source": [
        "modelTraining = DecisionTreeClassifier(criterion = \"gini\",\n",
        "                                       random_state = 100,\n",
        "                                       max_depth = 3,\n",
        "                                       min_samples_leaf = 2)\n",
        "modelTraining.fit(X_train,y_train)\n",
        "y_pred = modelTraining.predict(X_test)\n",
        "print(\"Accuracy: \", accuracy_score(y_test,y_pred)*100)"
      ]
    },
    {
      "cell_type": "markdown",
      "id": "7c6e80c5",
      "metadata": {
        "id": "7c6e80c5"
      },
      "source": [
        "### Logistic Regression implementation using unbalanced dataset"
      ]
    },
    {
      "cell_type": "code",
      "execution_count": 42,
      "id": "31ef1d65",
      "metadata": {
        "colab": {
          "base_uri": "https://localhost:8080/"
        },
        "id": "31ef1d65",
        "outputId": "324d97b1-d68b-4b9a-c57b-b529c2dc00d9"
      },
      "outputs": [
        {
          "output_type": "stream",
          "name": "stdout",
          "text": [
            "Accuracy:  94.34654300168634\n"
          ]
        }
      ],
      "source": [
        "logmodel = LogisticRegression()\n",
        "fit_model = logmodel.fit(X_train,y_train)\n",
        "log_predictions = logmodel.predict(X_test)\n",
        "print(\"Accuracy: \", accuracy_score(y_test,log_predictions)*100)"
      ]
    },
    {
      "cell_type": "markdown",
      "id": "658bf5b2",
      "metadata": {
        "id": "658bf5b2"
      },
      "source": [
        "### Multilayer Perceptron implementation using unbalanced dataset"
      ]
    },
    {
      "cell_type": "code",
      "execution_count": 43,
      "id": "d2cb57f4",
      "metadata": {
        "colab": {
          "base_uri": "https://localhost:8080/"
        },
        "id": "d2cb57f4",
        "outputId": "3d6fc94b-ea9f-46f4-e68d-9782a09a9fac"
      },
      "outputs": [
        {
          "output_type": "stream",
          "name": "stdout",
          "text": [
            "Accuracy: 95.40050590219225\n"
          ]
        }
      ],
      "source": [
        "p_clf=Perceptron(penalty=\"none\",random_state=0)\n",
        "p_clf.fit(X_train,y_train)\n",
        "y_predP=p_clf.predict(X_test)\n",
        "print(\"Accuracy:\",accuracy_score(y_test, y_predP)*100)"
      ]
    },
    {
      "cell_type": "markdown",
      "id": "80e70c80",
      "metadata": {
        "id": "80e70c80"
      },
      "source": [
        "### SVM implementation using unbalanced dataset"
      ]
    },
    {
      "cell_type": "code",
      "execution_count": 44,
      "id": "1391904e",
      "metadata": {
        "colab": {
          "base_uri": "https://localhost:8080/"
        },
        "id": "1391904e",
        "outputId": "c06b051a-f2a4-4cbc-a29b-861f6d75d847"
      },
      "outputs": [
        {
          "output_type": "stream",
          "name": "stdout",
          "text": [
            "Accuracy: 99.8566610455312\n"
          ]
        }
      ],
      "source": [
        "svm = SVC(decision_function_shape='ovo')\n",
        "svm.fit(X_train, y_train)\n",
        "svm_pred = svm.predict(X_test)\n",
        "print(\"Accuracy:\",accuracy_score(y_test, svm_pred)*100)"
      ]
    },
    {
      "cell_type": "markdown",
      "id": "e62ff171",
      "metadata": {
        "id": "e62ff171"
      },
      "source": [
        "### Adaboost Algorithm implementation using unbalanced dataset"
      ]
    },
    {
      "cell_type": "code",
      "execution_count": 45,
      "id": "e954b5e4",
      "metadata": {
        "colab": {
          "base_uri": "https://localhost:8080/"
        },
        "id": "e954b5e4",
        "outputId": "0430a8e1-4d41-47f0-dd79-01b280ffc1c9"
      },
      "outputs": [
        {
          "output_type": "stream",
          "name": "stdout",
          "text": [
            "Accuracy: 96.77908937605396\n"
          ]
        }
      ],
      "source": [
        "abc = AdaBoostClassifier(n_estimators=50,\n",
        "                         learning_rate=1)\n",
        "model = abc.fit(X_train, y_train)\n",
        "y_pred = model.predict(X_test)\n",
        "print(\"Accuracy:\",accuracy_score(y_test, y_pred)*100)"
      ]
    },
    {
      "cell_type": "markdown",
      "id": "5e22d615",
      "metadata": {
        "id": "5e22d615"
      },
      "source": [
        "### Bagging Implementation Using Random Forests and unbalanced dataset"
      ]
    },
    {
      "cell_type": "code",
      "execution_count": 46,
      "id": "454ca857",
      "metadata": {
        "colab": {
          "base_uri": "https://localhost:8080/"
        },
        "id": "454ca857",
        "outputId": "a40a710e-beeb-48d1-89fe-9b53f49f5014"
      },
      "outputs": [
        {
          "output_type": "stream",
          "name": "stdout",
          "text": [
            "Accuracy: 99.80607082630691\n"
          ]
        }
      ],
      "source": [
        "sc = StandardScaler() \n",
        "X_train = sc.fit_transform(X_train) \n",
        "X_test = sc.transform(X_test)\n",
        "regressor = RandomForestRegressor(n_estimators=20,random_state=0) \n",
        "regressor.fit(X_train, y_train) \n",
        "y_pred = regressor.predict(X_test)\n",
        "for i in range(len(y_pred)):\n",
        "    y_pred[i] = int(y_pred[i])\n",
        "print(\"Accuracy:\",accuracy_score(y_test, y_pred)*100)"
      ]
    }
  ],
  "metadata": {
    "kernelspec": {
      "display_name": "Python 3",
      "language": "python",
      "name": "python3"
    },
    "language_info": {
      "codemirror_mode": {
        "name": "ipython",
        "version": 3
      },
      "file_extension": ".py",
      "mimetype": "text/x-python",
      "name": "python",
      "nbconvert_exporter": "python",
      "pygments_lexer": "ipython3",
      "version": "3.8.8"
    },
    "colab": {
      "provenance": []
    }
  },
  "nbformat": 4,
  "nbformat_minor": 5
}